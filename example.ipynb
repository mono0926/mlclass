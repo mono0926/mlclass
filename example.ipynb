{
 "cells": [
  {
   "cell_type": "code",
   "execution_count": null,
   "metadata": {},
   "outputs": [],
   "source": [
    "import numpy as np\n",
    "import pandas as pd\n",
    "import matplotlib.pyplot as plt\n",
    "from sklearn import linear_model\n",
    "\n",
    "data = pd.read_csv(\"ex1data1.txt\", header=None)\n",
    "\n",
    "plt.scatter(data[0], data[1], marker='x', c='r')\n",
    "plt.xlabel(\"Population of city in 10,000s\")\n",
    "plt.ylabel(\"Profit in $10,000s\")\n",
    "\n",
    "X = np.array([data[0]]).T\n",
    "y = np.array(data[1])\n",
    "\n",
    "model = linear_model.LinearRegression()\n",
    "model.fit(X, y)\n",
    "\n",
    "px = np.arange(X.min(),X.max(),.01)[:,np.newaxis]\n",
    "py = model.predict(px)\n",
    "\n",
    "plt.plot(px, py, color=\"blue\", linewidth=3)"
   ]
  },
  {
   "cell_type": "code",
   "execution_count": null,
   "metadata": {},
   "outputs": [],
   "source": [
    "def gradient_descent(theta, alpha, num_iters):\n",
    "    global xmat, ymat\n",
    "\n",
    "    m = len(ymat)      # number of train examples\n",
    "    j_history = np.zeros(num_iters)\n",
    "    #\n",
    "    for iter in range(num_iters):\n",
    "        xmat1 = xmat ; ymat1 = ymat\n",
    "        delta_t = alpha * compute_grad(theta, xmat1, ymat1)\n",
    "        theta = theta - delta_t\n",
    "        # for DEBUG #     \n",
    "        j_history[iter] = compute_cost(theta, xmat, ymat)\n",
    "\n",
    "    return theta, j_history"
   ]
  },
  {
   "cell_type": "code",
   "execution_count": null,
   "metadata": {},
   "outputs": [],
   "source": [
    ""
   ]
  }
 ],
 "metadata": {},
 "nbformat": 4,
 "nbformat_minor": 0
}